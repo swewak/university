{
  "cells": [
    {
      "cell_type": "markdown",
      "metadata": {
        "id": "view-in-github",
        "colab_type": "text"
      },
      "source": [
        "<a href=\"https://colab.research.google.com/github/swewak/university/blob/main/%D0%B4%D0%BE%D0%BF%20%D0%B7%D0%B0%D0%B4%D0%B0%D0%BD%D0%B8%D1%8F/%D0%B8%D0%B3%D1%80%D0%B0%20%D1%83%D0%B3%D0%B0%D0%B4%D0%B0%D0%B9%20%D1%87%D0%B8%D1%81%D0%BB%D0%BE.ipynb\" target=\"_parent\"><img src=\"https://colab.research.google.com/assets/colab-badge.svg\" alt=\"Open In Colab\"/></a>"
      ]
    },
    {
      "cell_type": "code",
      "source": [
        "import random\n",
        "\n",
        "number=random.randint(0,101)\n",
        "atts=0\n",
        "flag=False\n",
        "while flag!=True:\n",
        "  vvod=input()\n",
        "  if vvod.isdigit():\n",
        "    if int(vvod)<number:\n",
        "      print(\"Ваше число меньше загаданного\")\n",
        "      atts+=1\n",
        "      print(\"Число попыток: \"+str(atts))\n",
        "    elif int(vvod)>number:\n",
        "      print(\"Ваше число больше загаданного\")\n",
        "      atts+=1\n",
        "      print(\"Число попыток: \"+str(atts))\n",
        "    else:\n",
        "      print(\"Правильно!\")\n",
        "      atts+=1\n",
        "      print(\"Число попыток: \"+str(atts))\n",
        "      flag=True\n",
        "      break\n",
        "  if vvod=='Выход' or vvod=='выход':\n",
        "    print('Покеда!')\n",
        "    break\n"
      ],
      "metadata": {
        "id": "2dD9RXJLBbHv",
        "outputId": "f87894c8-9d13-4d84-f4fb-674362caea88",
        "colab": {
          "base_uri": "https://localhost:8080/"
        }
      },
      "execution_count": 32,
      "outputs": [
        {
          "output_type": "stream",
          "name": "stdout",
          "text": [
            "56\n",
            "Ваше число больше загаданного\n",
            "Число попыток: 1\n",
            "34\n",
            "Ваше число больше загаданного\n",
            "Число попыток: 2\n",
            "22\n",
            "Ваше число меньше загаданного\n",
            "Число попыток: 3\n",
            "27\n",
            "Ваше число меньше загаданного\n",
            "Число попыток: 4\n",
            "30\n",
            "Ваше число меньше загаданного\n",
            "Число попыток: 5\n",
            "31\n",
            "Правильно!\n",
            "Число попыток: 6\n"
          ]
        }
      ]
    }
  ],
  "metadata": {
    "colab": {
      "name": "Добро пожаловать в Colaboratory!",
      "toc_visible": true,
      "provenance": [],
      "include_colab_link": true
    },
    "kernelspec": {
      "display_name": "Python 3",
      "name": "python3"
    }
  },
  "nbformat": 4,
  "nbformat_minor": 0
}